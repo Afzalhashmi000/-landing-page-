{
  "nbformat": 4,
  "nbformat_minor": 0,
  "metadata": {
    "colab": {
      "provenance": [],
      "include_colab_link": true
    },
    "kernelspec": {
      "name": "python3",
      "display_name": "Python 3"
    },
    "language_info": {
      "name": "python"
    }
  },
  "cells": [
    {
      "cell_type": "markdown",
      "metadata": {
        "id": "view-in-github",
        "colab_type": "text"
      },
      "source": [
        "<a href=\"https://colab.research.google.com/github/Afzalhashmi000/-landing-page-/blob/main/LEX_and_YACC_Compiler.ipynb\" target=\"_parent\"><img src=\"https://colab.research.google.com/assets/colab-badge.svg\" alt=\"Open In Colab\"/></a>"
      ]
    },
    {
      "cell_type": "markdown",
      "source": [
        "# LEX and YACC Compiler in Colab\n",
        "\n",
        "Drawbacks:\n",
        "* Regular interrupts (Ctrl+D, Ctrl+C) for shell won't work in Colab while inputting for program.\n",
        "<br>Workaround: Store your inputs in a txt file and pass it to the program."
      ],
      "metadata": {
        "id": "Az09-x9PnHPq"
      }
    },
    {
      "cell_type": "code",
      "source": [
        "#@title Install *prerqeuisites* (run this cell first to work on LEX/YACC)\n",
        "!sudo apt install flex bison"
      ],
      "metadata": {
        "cellView": "form",
        "id": "CM_9N3RogX8y"
      },
      "execution_count": null,
      "outputs": []
    },
    {
      "cell_type": "markdown",
      "source": [
        "## Lex only"
      ],
      "metadata": {
        "id": "0IYbRG4He38g"
      }
    },
    {
      "cell_type": "code",
      "execution_count": null,
      "metadata": {
        "id": "Jyt0i_pTexWf"
      },
      "outputs": [],
      "source": [
        "# prompt: Write a Lex program to find Keyword, Identifier, Constant,\n",
        "# Special Characters, Whitespace.\n",
        "\n",
        "%%writefile lexer.l\n",
        "%{\n",
        "  #include <stdio.h>\n",
        "  #include <string.h>\n",
        "%}\n",
        "\n",
        "%option noyywrap\n",
        "\n",
        "KEYWORD     \"if\"|\"else\"|\"int\"|\"float\"|\"char\"|\"void\"|\"return\"\n",
        "IDENTIFIER  [a-zA-Z_][a-zA-Z0-9_]*\n",
        "CONSTANT    [0-9]+([.][0-9]+)?\n",
        "SPECIAL     [+\\-*/%=<>!&|\\[\\](){};,?:.]\n",
        "WHITESPACE  [ \\t\\n]+\n",
        "\n",
        "%%\n",
        "\n",
        "{KEYWORD}    { printf(\"Keyword: %s\\n\", yytext); }\n",
        "{IDENTIFIER} { printf(\"Identifier: %s\\n\", yytext); }\n",
        "{CONSTANT}   { printf(\"Constant: %s\\n\", yytext); }\n",
        "{SPECIAL}    { printf(\"Special Character: %s\\n\", yytext); }\n",
        "{WHITESPACE} { /* Ignore whitespace */ }\n",
        ".            { printf(\"Invalid character: %s\\n\", yytext); }\n",
        "\n",
        "%%\n",
        "\n",
        "int main() {\n",
        "  yylex();\n",
        "  return 0;\n",
        "}\n"
      ]
    },
    {
      "cell_type": "markdown",
      "source": [
        "if you want to use at txt as an input"
      ],
      "metadata": {
        "id": "erI5UjQzg3Sy"
      }
    },
    {
      "cell_type": "code",
      "source": [
        "# prompt: Write a Lex program to find Keyword, Identifier, Constant,\n",
        "# Special Characters, Whitespace.\n",
        "\n",
        "%%writefile lexer.l\n",
        "%{\n",
        "  #include <stdio.h>\n",
        "  #include <string.h>\n",
        "%}\n",
        "\n",
        "%option noyywrap\n",
        "\n",
        "KEYWORD     \"if\"|\"else\"|\"int\"|\"float\"|\"char\"|\"void\"|\"return\"\n",
        "IDENTIFIER  [a-zA-Z_][a-zA-Z0-9_]*\n",
        "CONSTANT    [0-9]+([.][0-9]+)?\n",
        "SPECIAL     [+\\-*/%=<>!&|\\[\\](){};,?:.]\n",
        "WHITESPACE  [ \\t\\n]+\n",
        "\n",
        "%%\n",
        "\n",
        "{KEYWORD}    { printf(\"Keyword: %s\\n\", yytext); }\n",
        "{IDENTIFIER} { printf(\"Identifier: %s\\n\", yytext); }\n",
        "{CONSTANT}   { printf(\"Constant: %s\\n\", yytext); }\n",
        "{SPECIAL}    { printf(\"Special Character: %s\\n\", yytext); }\n",
        "{WHITESPACE} { /* Ignore whitespace */ }\n",
        ".            { printf(\"Invalid character: %s\\n\", yytext); }\n",
        "\n",
        "%%\n",
        "\n",
        "int main() {\n",
        "  yylex();\n",
        "  return 0;\n",
        "}\n"
      ],
      "metadata": {
        "id": "MUUdcBtRgtjf"
      },
      "execution_count": null,
      "outputs": []
    },
    {
      "cell_type": "code",
      "source": [
        "#@title Shell Execution (you can rewrite the commands as per your need, eg. if you want to include a file as an input)\n",
        "%%shell\n",
        "\n",
        "lex -l program.l\n",
        "gcc lex.yy.c\n",
        "./a.out program.txt"
      ],
      "metadata": {
        "id": "tqpZgNYpe263"
      },
      "execution_count": null,
      "outputs": []
    },
    {
      "cell_type": "markdown",
      "source": [
        "## Lex and Yacc combined"
      ],
      "metadata": {
        "id": "9g3qzHuCe9s1"
      }
    },
    {
      "cell_type": "code",
      "source": [
        "#@title Writing YACC program\n",
        "%%writefile program.y\n",
        "\n",
        "%{\n",
        "    #include<stdio.h>\n",
        "    #include<stdlib.h>\n",
        "%}\n",
        "%token DIGIT LETTER UND NL\n",
        "%%\n",
        "stmt: variable NL {printf(\"Valid Identifier\\n\");exit(0);}\n",
        "variable: LETTER alphanumeric;\n",
        "alphanumeric: LETTER alphanumeric\n",
        "            | DIGIT alphanumeric\n",
        "            | UND alphanumeric\n",
        "            | LETTER\n",
        "            | DIGIT\n",
        "            | UND;\n",
        "%%\n",
        "\n",
        "int yyerror(){\n",
        "    printf(\"Invalid Identifier\\n\");\n",
        "    exit(0);\n",
        "}\n",
        "\n",
        "void main(){\n",
        "    printf(\"Enter the variable name: \");\n",
        "    yyparse();\n",
        "}"
      ],
      "metadata": {
        "colab": {
          "base_uri": "https://localhost:8080/"
        },
        "id": "PR_WVl_3kvjz",
        "outputId": "a19ffcd6-84d8-4a15-f1fe-5dd124b35450"
      },
      "execution_count": null,
      "outputs": [
        {
          "output_type": "stream",
          "name": "stdout",
          "text": [
            "Overwriting program.y\n"
          ]
        }
      ]
    },
    {
      "cell_type": "code",
      "execution_count": null,
      "metadata": {
        "colab": {
          "base_uri": "https://localhost:8080/"
        },
        "outputId": "ae488aa8-96d1-4cab-c243-5097cc230c51",
        "id": "d_jqt4ajkllz"
      },
      "outputs": [
        {
          "output_type": "stream",
          "name": "stdout",
          "text": [
            "Overwriting program.l\n"
          ]
        }
      ],
      "source": [
        "#@title Writing Lex program\n",
        "%%writefile program.l\n",
        "\n",
        "%{\n",
        "    #include \"y.tab.h\"\n",
        "%}\n",
        "%%\n",
        "[a-zA-Z] {return LETTER;}\n",
        "[0-9] {return DIGIT;}\n",
        "[_] {return UND;}\n",
        "\\n {return NL;}\n",
        ". {return yytext[0];}\n",
        "%%"
      ]
    },
    {
      "cell_type": "markdown",
      "source": [
        "if you want to use at txt as an input"
      ],
      "metadata": {
        "id": "b0o39e7Ykll3"
      }
    },
    {
      "cell_type": "code",
      "source": [
        "%%writefile program.txt\n",
        "\n",
        "This is a sample file."
      ],
      "metadata": {
        "id": "vna5Qg34kll4"
      },
      "execution_count": null,
      "outputs": []
    },
    {
      "cell_type": "code",
      "source": [
        "#@title Shell Execution (you can rewrite the commands as per your need, eg. if you want to include a file as an input)\n",
        "%%shell\n",
        "\n",
        "yacc -d program.y\n",
        "lex program.l\n",
        "cc y.tab.c lex.yy.c -ll\n",
        "./a.out"
      ],
      "metadata": {
        "colab": {
          "base_uri": "https://localhost:8080/"
        },
        "outputId": "edd8a233-74c0-471c-fa30-f023ef7ff458",
        "id": "nqs9Nq64kll4"
      },
      "execution_count": null,
      "outputs": [
        {
          "output_type": "stream",
          "name": "stdout",
          "text": [
            "\u001b[01m\u001b[Ky.tab.c:\u001b[m\u001b[K In function ‘\u001b[01m\u001b[Kyyparse\u001b[m\u001b[K’:\n",
            "\u001b[01m\u001b[Ky.tab.c:1121:16:\u001b[m\u001b[K \u001b[01;35m\u001b[Kwarning: \u001b[m\u001b[Kimplicit declaration of function ‘\u001b[01m\u001b[Kyylex\u001b[m\u001b[K’ [\u001b[01;35m\u001b[K-Wimplicit-function-declaration\u001b[m\u001b[K]\n",
            "       yychar = \u001b[01;35m\u001b[Kyylex\u001b[m\u001b[K ();\n",
            "                \u001b[01;35m\u001b[K^~~~~\u001b[m\u001b[K\n",
            "\u001b[01m\u001b[Ky.tab.c:1256:7:\u001b[m\u001b[K \u001b[01;35m\u001b[Kwarning: \u001b[m\u001b[Kimplicit declaration of function ‘\u001b[01m\u001b[Kyyerror\u001b[m\u001b[K’; did you mean ‘\u001b[01m\u001b[Kyyerrok\u001b[m\u001b[K’? [\u001b[01;35m\u001b[K-Wimplicit-function-declaration\u001b[m\u001b[K]\n",
            "       \u001b[01;35m\u001b[Kyyerror\u001b[m\u001b[K (YY_(\"syntax error\"));\n",
            "       \u001b[01;35m\u001b[K^~~~~~~\u001b[m\u001b[K\n",
            "       \u001b[32m\u001b[Kyyerrok\u001b[m\u001b[K\n",
            "Enter the variable name: variable_name\n",
            "Valid Identifier\n"
          ]
        },
        {
          "output_type": "execute_result",
          "data": {
            "text/plain": []
          },
          "metadata": {},
          "execution_count": 21
        }
      ]
    }
  ]
}